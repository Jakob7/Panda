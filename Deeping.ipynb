{
 "cells": [
  {
   "cell_type": "code",
   "execution_count": null,
   "metadata": {
    "collapsed": true
   },
   "outputs": [],
   "source": [
    "import pandas as pd\n",
    "df = pd.read_csv('Info.csv', sep = \";\")\n",
    "delete = []\n",
    "to_del = df[(df[\"ap_hi\"]<df[\"ap_lo\"])]['id']\n",
    "to_del1 = df[(df['height'].quantile(0.025)>df['height'])]['id']\n",
    "to_del2 = df[(df['height'].quantile(0.975)<df['height'])]['id']\n",
    "to_del3 = df[(df['weight'].quantile(0.025)>df['weight'])]['id']\n",
    "to_del4 = df[(df['weight'].quantile(0.975)<df['weight'])]['id']\n",
    "\n",
    "\n",
    "DELETE = (to_del, to_del2, to_del1, to_del3, to_del4)\n",
    "for ever in DELETE:\n",
    "    for i in ever:\n",
    "        delete.append(i)\n",
    "df = df.drop(delete)\n",
    "d = len(delete)\n",
    "f = len(df)\n",
    "print(\"Процент удаленных строк \"+str(((d/f)*100)))\n",
    "df[\"BMI\"] = df['weight']/((df['height']/100)**2)\n",
    "print(\"+ BMI: \")\n",
    "print(df)\n",
    "string = df[\"gender\"].value_counts()\n",
    "answ = []\n",
    "for ever in string:\n",
    "    answ.append(ever)\n",
    "female = answ[0]\n",
    "male = answ[1]\n",
    "print(\"Мужчин \"+str(male))\n",
    "print(\"Женщин \"+str(female))\n",
    "smoking = pd.crosstab(df[\"smoke\"], df[\"gender\"])\n",
    "psf=(smoking[1][1])/female\n",
    "psm=(smoking[2][1])/male\n",
    "freq = int(round(psm/psf))#Процент курящих мужчин: процент курящих женщин\n",
    "print(\"Процент курящих мужчин к проценту курящих женщин \"+str(freq))\n",
    "slife = df[df['smoke'] == 1][\"age\"].mean()\n",
    "life = df[df[\"smoke\"] == 0]['age'].mean()\n",
    "razn = int(round((life - slife)/30))\n",
    "print(\"Разница в возрасте[мес] курящих и не курящих \"+str(razn))\n",
    "new = df[(df[\"age\"])&(df['smoke']==1)&(df['gender'] == 2)]\n",
    "new1 = pd.DataFrame(data = new, columns=['age', 'ap_hi','cholesterol',\"cardio\"])\n",
    "new2 = new1[(new1[\"age\"]/365)<65]\n",
    "new3 = new2[new2[\"age\"]/365>=60]\n",
    "new3 = pd.DataFrame(data = new3)\n",
    "new3['age']= round(new3['age']/365)\n",
    "sample1 = new3[(new3[\"ap_hi\"] == 120)&(new3[\"cholesterol\"] == 1)]\n",
    "sample2 = new3[(new3[\"ap_hi\"] >= 160)&(new3[\"cholesterol\"] == 3)&(new3[\"ap_hi\"] < 180)]\n",
    "pcs2 = (sample2['cardio'].value_counts()[1])/(sample2['cardio'].value_counts()[1]+sample2['cardio'].value_counts()[0])\n",
    "pcs1 = (sample1['cardio'].value_counts()[1])/(sample1['cardio'].value_counts()[1]+sample1['cardio'].value_counts()[0])\n",
    "print(\"Отношение количества больных курящих мужчин к здоровым курящим мужчинам \"+str(round(pcs2/pcs1)))"
   ]
  },
  {
   "cell_type": "code",
   "execution_count": null,
   "metadata": {},
   "outputs": [],
   "source": [
    ""
   ]
  },
  {
   "cell_type": "code",
   "execution_count": null,
   "metadata": {},
   "outputs": [],
   "source": [
    ""
   ]
  }
 ],
 "metadata": {
  "kernelspec": {
   "display_name": "Python 2",
   "language": "python",
   "name": "python2"
  },
  "language_info": {
   "codemirror_mode": {
    "name": "ipython",
    "version": 2.0
   },
   "file_extension": ".py",
   "mimetype": "text/x-python",
   "name": "python",
   "nbconvert_exporter": "python",
   "pygments_lexer": "ipython2",
   "version": "2.7.6"
  }
 },
 "nbformat": 4,
 "nbformat_minor": 0
}